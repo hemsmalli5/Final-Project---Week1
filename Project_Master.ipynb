{
 "cells": [
  {
   "cell_type": "markdown",
   "metadata": {
    "colab_type": "text",
    "id": "view-in-github"
   },
   "source": [
    "<a href=\"https://colab.research.google.com/github/hemsmalli5/Final-Project---Week1/blob/master/Project_Master.ipynb\" target=\"_parent\"><img src=\"https://colab.research.google.com/assets/colab-badge.svg\" alt=\"Open In Colab\"/></a>"
   ]
  },
  {
   "cell_type": "markdown",
   "metadata": {
    "id": "XQXd2LA9oDxK"
   },
   "source": [
    "\n",
    "# ***Movie Data Analysis***\n",
    "\n",
    "Through this project we plan to focus on following business predictions/questions:\n",
    "\n",
    "Predict popular movie ratings and/or genres within certain release period and intricate genres relationships based on investment and release years.\n",
    "\n",
    "Analysis specific to one genre, predict if highest budget action movies delivered better revenue?\n",
    "\n"
   ]
  },
  {
   "cell_type": "code",
   "execution_count": 1,
   "metadata": {
    "id": "RUDJyRCWnksA"
   },
   "outputs": [],
   "source": [
    "# Import dependencies\n",
    "\n",
    "import numpy as np\n",
    "import pandas as pd\n",
    "import sklearn as sl\n",
    "import sklearn.preprocessing as preprocessing\n",
    "from sklearn.model_selection import train_test_split\n",
    "import seaborn as sns\n",
    "import matplotlib.pyplot as plt\n",
    "from sklearn.preprocessing import MultiLabelBinarizer\n",
    "pd.set_option('display.float_format', lambda x: '%.3f' % x)\n",
    "pd.set_option('display.max_columns', None)\n",
    "pd.set_option('display.max_rows', None)\n",
    "pd.set_option('max_colwidth', 100)"
   ]
  },
  {
   "cell_type": "markdown",
   "metadata": {
    "id": "fzA-9JPRqbXS"
   },
   "source": [
    "# **1. Import Data**"
   ]
  },
  {
   "cell_type": "code",
   "execution_count": 2,
   "metadata": {},
   "outputs": [
    {
     "data": {
      "text/html": [
       "<div>\n",
       "<style scoped>\n",
       "    .dataframe tbody tr th:only-of-type {\n",
       "        vertical-align: middle;\n",
       "    }\n",
       "\n",
       "    .dataframe tbody tr th {\n",
       "        vertical-align: top;\n",
       "    }\n",
       "\n",
       "    .dataframe thead th {\n",
       "        text-align: right;\n",
       "    }\n",
       "</style>\n",
       "<table border=\"1\" class=\"dataframe\">\n",
       "  <thead>\n",
       "    <tr style=\"text-align: right;\">\n",
       "      <th></th>\n",
       "      <th>tconst</th>\n",
       "      <th>titleType</th>\n",
       "      <th>primaryTitle</th>\n",
       "      <th>originalTitle</th>\n",
       "      <th>isAdult</th>\n",
       "      <th>startYear</th>\n",
       "      <th>endYear</th>\n",
       "      <th>runtimeMinutes</th>\n",
       "      <th>genres</th>\n",
       "    </tr>\n",
       "  </thead>\n",
       "  <tbody>\n",
       "    <tr>\n",
       "      <th>0</th>\n",
       "      <td>tt0000001</td>\n",
       "      <td>short</td>\n",
       "      <td>Carmencita</td>\n",
       "      <td>Carmencita</td>\n",
       "      <td>0</td>\n",
       "      <td>1894</td>\n",
       "      <td>\\N</td>\n",
       "      <td>1</td>\n",
       "      <td>Documentary,Short</td>\n",
       "    </tr>\n",
       "    <tr>\n",
       "      <th>1</th>\n",
       "      <td>tt0000002</td>\n",
       "      <td>short</td>\n",
       "      <td>Le clown et ses chiens</td>\n",
       "      <td>Le clown et ses chiens</td>\n",
       "      <td>0</td>\n",
       "      <td>1892</td>\n",
       "      <td>\\N</td>\n",
       "      <td>5</td>\n",
       "      <td>Animation,Short</td>\n",
       "    </tr>\n",
       "    <tr>\n",
       "      <th>2</th>\n",
       "      <td>tt0000003</td>\n",
       "      <td>short</td>\n",
       "      <td>Pauvre Pierrot</td>\n",
       "      <td>Pauvre Pierrot</td>\n",
       "      <td>0</td>\n",
       "      <td>1892</td>\n",
       "      <td>\\N</td>\n",
       "      <td>4</td>\n",
       "      <td>Animation,Comedy,Romance</td>\n",
       "    </tr>\n",
       "    <tr>\n",
       "      <th>3</th>\n",
       "      <td>tt0000004</td>\n",
       "      <td>short</td>\n",
       "      <td>Un bon bock</td>\n",
       "      <td>Un bon bock</td>\n",
       "      <td>0</td>\n",
       "      <td>1892</td>\n",
       "      <td>\\N</td>\n",
       "      <td>12</td>\n",
       "      <td>Animation,Short</td>\n",
       "    </tr>\n",
       "    <tr>\n",
       "      <th>4</th>\n",
       "      <td>tt0000005</td>\n",
       "      <td>short</td>\n",
       "      <td>Blacksmith Scene</td>\n",
       "      <td>Blacksmith Scene</td>\n",
       "      <td>0</td>\n",
       "      <td>1893</td>\n",
       "      <td>\\N</td>\n",
       "      <td>1</td>\n",
       "      <td>Comedy,Short</td>\n",
       "    </tr>\n",
       "  </tbody>\n",
       "</table>\n",
       "</div>"
      ],
      "text/plain": [
       "      tconst titleType            primaryTitle           originalTitle  \\\n",
       "0  tt0000001     short              Carmencita              Carmencita   \n",
       "1  tt0000002     short  Le clown et ses chiens  Le clown et ses chiens   \n",
       "2  tt0000003     short          Pauvre Pierrot          Pauvre Pierrot   \n",
       "3  tt0000004     short             Un bon bock             Un bon bock   \n",
       "4  tt0000005     short        Blacksmith Scene        Blacksmith Scene   \n",
       "\n",
       "   isAdult startYear endYear runtimeMinutes                    genres  \n",
       "0        0      1894      \\N              1         Documentary,Short  \n",
       "1        0      1892      \\N              5           Animation,Short  \n",
       "2        0      1892      \\N              4  Animation,Comedy,Romance  \n",
       "3        0      1892      \\N             12           Animation,Short  \n",
       "4        0      1893      \\N              1              Comedy,Short  "
      ]
     },
     "execution_count": 2,
     "metadata": {},
     "output_type": "execute_result"
    }
   ],
   "source": [
    "# read the data file\n",
    "movie_basics = pd.read_csv('Resources/title.basics.tsv', sep='\\t')\n",
    "movie_basics.head()"
   ]
  },
  {
   "cell_type": "code",
   "execution_count": 3,
   "metadata": {
    "colab": {
     "base_uri": "https://localhost:8080/",
     "height": 292
    },
    "id": "Ajx573Guof0r",
    "outputId": "962939a0-c701-4dfd-e074-33fec948acb2"
   },
   "outputs": [
    {
     "data": {
      "text/html": [
       "<div>\n",
       "<style scoped>\n",
       "    .dataframe tbody tr th:only-of-type {\n",
       "        vertical-align: middle;\n",
       "    }\n",
       "\n",
       "    .dataframe tbody tr th {\n",
       "        vertical-align: top;\n",
       "    }\n",
       "\n",
       "    .dataframe thead th {\n",
       "        text-align: right;\n",
       "    }\n",
       "</style>\n",
       "<table border=\"1\" class=\"dataframe\">\n",
       "  <thead>\n",
       "    <tr style=\"text-align: right;\">\n",
       "      <th></th>\n",
       "      <th>tconst</th>\n",
       "      <th>averageRating</th>\n",
       "      <th>numVotes</th>\n",
       "    </tr>\n",
       "  </thead>\n",
       "  <tbody>\n",
       "    <tr>\n",
       "      <th>0</th>\n",
       "      <td>tt0000001</td>\n",
       "      <td>5.600</td>\n",
       "      <td>1648</td>\n",
       "    </tr>\n",
       "    <tr>\n",
       "      <th>1</th>\n",
       "      <td>tt0000002</td>\n",
       "      <td>6.100</td>\n",
       "      <td>198</td>\n",
       "    </tr>\n",
       "    <tr>\n",
       "      <th>2</th>\n",
       "      <td>tt0000003</td>\n",
       "      <td>6.500</td>\n",
       "      <td>1352</td>\n",
       "    </tr>\n",
       "    <tr>\n",
       "      <th>3</th>\n",
       "      <td>tt0000004</td>\n",
       "      <td>6.200</td>\n",
       "      <td>120</td>\n",
       "    </tr>\n",
       "    <tr>\n",
       "      <th>4</th>\n",
       "      <td>tt0000005</td>\n",
       "      <td>6.200</td>\n",
       "      <td>2139</td>\n",
       "    </tr>\n",
       "  </tbody>\n",
       "</table>\n",
       "</div>"
      ],
      "text/plain": [
       "      tconst  averageRating  numVotes\n",
       "0  tt0000001          5.600      1648\n",
       "1  tt0000002          6.100       198\n",
       "2  tt0000003          6.500      1352\n",
       "3  tt0000004          6.200       120\n",
       "4  tt0000005          6.200      2139"
      ]
     },
     "execution_count": 3,
     "metadata": {},
     "output_type": "execute_result"
    }
   ],
   "source": [
    "# read the data file\n",
    "movie_ratings = pd.read_csv('Resources/title.ratings.tsv', sep='\\t')\n",
    "movie_ratings.head()"
   ]
  },
  {
   "cell_type": "code",
   "execution_count": 4,
   "metadata": {},
   "outputs": [
    {
     "data": {
      "text/html": [
       "<div>\n",
       "<style scoped>\n",
       "    .dataframe tbody tr th:only-of-type {\n",
       "        vertical-align: middle;\n",
       "    }\n",
       "\n",
       "    .dataframe tbody tr th {\n",
       "        vertical-align: top;\n",
       "    }\n",
       "\n",
       "    .dataframe thead th {\n",
       "        text-align: right;\n",
       "    }\n",
       "</style>\n",
       "<table border=\"1\" class=\"dataframe\">\n",
       "  <thead>\n",
       "    <tr style=\"text-align: right;\">\n",
       "      <th></th>\n",
       "      <th>tconst</th>\n",
       "      <th>directors</th>\n",
       "      <th>writers</th>\n",
       "    </tr>\n",
       "  </thead>\n",
       "  <tbody>\n",
       "    <tr>\n",
       "      <th>0</th>\n",
       "      <td>tt0000001</td>\n",
       "      <td>nm0005690</td>\n",
       "      <td>\\N</td>\n",
       "    </tr>\n",
       "    <tr>\n",
       "      <th>1</th>\n",
       "      <td>tt0000002</td>\n",
       "      <td>nm0721526</td>\n",
       "      <td>\\N</td>\n",
       "    </tr>\n",
       "    <tr>\n",
       "      <th>2</th>\n",
       "      <td>tt0000003</td>\n",
       "      <td>nm0721526</td>\n",
       "      <td>\\N</td>\n",
       "    </tr>\n",
       "    <tr>\n",
       "      <th>3</th>\n",
       "      <td>tt0000004</td>\n",
       "      <td>nm0721526</td>\n",
       "      <td>\\N</td>\n",
       "    </tr>\n",
       "    <tr>\n",
       "      <th>4</th>\n",
       "      <td>tt0000005</td>\n",
       "      <td>nm0005690</td>\n",
       "      <td>\\N</td>\n",
       "    </tr>\n",
       "  </tbody>\n",
       "</table>\n",
       "</div>"
      ],
      "text/plain": [
       "      tconst  directors writers\n",
       "0  tt0000001  nm0005690      \\N\n",
       "1  tt0000002  nm0721526      \\N\n",
       "2  tt0000003  nm0721526      \\N\n",
       "3  tt0000004  nm0721526      \\N\n",
       "4  tt0000005  nm0005690      \\N"
      ]
     },
     "execution_count": 4,
     "metadata": {},
     "output_type": "execute_result"
    }
   ],
   "source": [
    "# read the data file\n",
    "movie_crew = pd.read_csv('Resources/title.crew.tsv', sep='\\t')\n",
    "movie_crew.head()"
   ]
  },
  {
   "cell_type": "code",
   "execution_count": 5,
   "metadata": {},
   "outputs": [
    {
     "name": "stderr",
     "output_type": "stream",
     "text": [
      "/Users/SamWise/opt/anaconda3/envs/PythonData/lib/python3.7/site-packages/IPython/core/interactiveshell.py:3063: DtypeWarning: Columns (7) have mixed types.Specify dtype option on import or set low_memory=False.\n",
      "  interactivity=interactivity, compiler=compiler, result=result)\n"
     ]
    },
    {
     "data": {
      "text/html": [
       "<div>\n",
       "<style scoped>\n",
       "    .dataframe tbody tr th:only-of-type {\n",
       "        vertical-align: middle;\n",
       "    }\n",
       "\n",
       "    .dataframe tbody tr th {\n",
       "        vertical-align: top;\n",
       "    }\n",
       "\n",
       "    .dataframe thead th {\n",
       "        text-align: right;\n",
       "    }\n",
       "</style>\n",
       "<table border=\"1\" class=\"dataframe\">\n",
       "  <thead>\n",
       "    <tr style=\"text-align: right;\">\n",
       "      <th></th>\n",
       "      <th>titleId</th>\n",
       "      <th>ordering</th>\n",
       "      <th>title</th>\n",
       "      <th>region</th>\n",
       "      <th>language</th>\n",
       "      <th>types</th>\n",
       "      <th>attributes</th>\n",
       "      <th>isOriginalTitle</th>\n",
       "    </tr>\n",
       "  </thead>\n",
       "  <tbody>\n",
       "    <tr>\n",
       "      <th>0</th>\n",
       "      <td>tt0000001</td>\n",
       "      <td>1</td>\n",
       "      <td>Карменсіта</td>\n",
       "      <td>UA</td>\n",
       "      <td>\\N</td>\n",
       "      <td>imdbDisplay</td>\n",
       "      <td>\\N</td>\n",
       "      <td>0</td>\n",
       "    </tr>\n",
       "    <tr>\n",
       "      <th>1</th>\n",
       "      <td>tt0000001</td>\n",
       "      <td>2</td>\n",
       "      <td>Carmencita</td>\n",
       "      <td>DE</td>\n",
       "      <td>\\N</td>\n",
       "      <td>\\N</td>\n",
       "      <td>literal title</td>\n",
       "      <td>0</td>\n",
       "    </tr>\n",
       "    <tr>\n",
       "      <th>2</th>\n",
       "      <td>tt0000001</td>\n",
       "      <td>3</td>\n",
       "      <td>Carmencita - spanyol tánc</td>\n",
       "      <td>HU</td>\n",
       "      <td>\\N</td>\n",
       "      <td>imdbDisplay</td>\n",
       "      <td>\\N</td>\n",
       "      <td>0</td>\n",
       "    </tr>\n",
       "    <tr>\n",
       "      <th>3</th>\n",
       "      <td>tt0000001</td>\n",
       "      <td>4</td>\n",
       "      <td>Καρμενσίτα</td>\n",
       "      <td>GR</td>\n",
       "      <td>\\N</td>\n",
       "      <td>imdbDisplay</td>\n",
       "      <td>\\N</td>\n",
       "      <td>0</td>\n",
       "    </tr>\n",
       "    <tr>\n",
       "      <th>4</th>\n",
       "      <td>tt0000001</td>\n",
       "      <td>5</td>\n",
       "      <td>Карменсита</td>\n",
       "      <td>RU</td>\n",
       "      <td>\\N</td>\n",
       "      <td>imdbDisplay</td>\n",
       "      <td>\\N</td>\n",
       "      <td>0</td>\n",
       "    </tr>\n",
       "    <tr>\n",
       "      <th>5</th>\n",
       "      <td>tt0000001</td>\n",
       "      <td>6</td>\n",
       "      <td>Carmencita</td>\n",
       "      <td>US</td>\n",
       "      <td>\\N</td>\n",
       "      <td>\\N</td>\n",
       "      <td>\\N</td>\n",
       "      <td>0</td>\n",
       "    </tr>\n",
       "    <tr>\n",
       "      <th>6</th>\n",
       "      <td>tt0000001</td>\n",
       "      <td>7</td>\n",
       "      <td>Carmencita</td>\n",
       "      <td>\\N</td>\n",
       "      <td>\\N</td>\n",
       "      <td>original</td>\n",
       "      <td>\\N</td>\n",
       "      <td>1</td>\n",
       "    </tr>\n",
       "    <tr>\n",
       "      <th>7</th>\n",
       "      <td>tt0000001</td>\n",
       "      <td>8</td>\n",
       "      <td>カルメンチータ</td>\n",
       "      <td>JP</td>\n",
       "      <td>ja</td>\n",
       "      <td>imdbDisplay</td>\n",
       "      <td>\\N</td>\n",
       "      <td>0</td>\n",
       "    </tr>\n",
       "    <tr>\n",
       "      <th>8</th>\n",
       "      <td>tt0000002</td>\n",
       "      <td>1</td>\n",
       "      <td>Le clown et ses chiens</td>\n",
       "      <td>\\N</td>\n",
       "      <td>\\N</td>\n",
       "      <td>original</td>\n",
       "      <td>\\N</td>\n",
       "      <td>1</td>\n",
       "    </tr>\n",
       "    <tr>\n",
       "      <th>9</th>\n",
       "      <td>tt0000002</td>\n",
       "      <td>2</td>\n",
       "      <td>A bohóc és kutyái</td>\n",
       "      <td>HU</td>\n",
       "      <td>\\N</td>\n",
       "      <td>imdbDisplay</td>\n",
       "      <td>\\N</td>\n",
       "      <td>0</td>\n",
       "    </tr>\n",
       "    <tr>\n",
       "      <th>10</th>\n",
       "      <td>tt0000002</td>\n",
       "      <td>3</td>\n",
       "      <td>Le clown et ses chiens</td>\n",
       "      <td>FR</td>\n",
       "      <td>\\N</td>\n",
       "      <td>\\N</td>\n",
       "      <td>\\N</td>\n",
       "      <td>0</td>\n",
       "    </tr>\n",
       "    <tr>\n",
       "      <th>11</th>\n",
       "      <td>tt0000002</td>\n",
       "      <td>4</td>\n",
       "      <td>Der Clown und seine Hunde</td>\n",
       "      <td>DE</td>\n",
       "      <td>\\N</td>\n",
       "      <td>\\N</td>\n",
       "      <td>literal title</td>\n",
       "      <td>0</td>\n",
       "    </tr>\n",
       "    <tr>\n",
       "      <th>12</th>\n",
       "      <td>tt0000002</td>\n",
       "      <td>5</td>\n",
       "      <td>Clovnul si cainii sai</td>\n",
       "      <td>RO</td>\n",
       "      <td>\\N</td>\n",
       "      <td>imdbDisplay</td>\n",
       "      <td>\\N</td>\n",
       "      <td>0</td>\n",
       "    </tr>\n",
       "    <tr>\n",
       "      <th>13</th>\n",
       "      <td>tt0000002</td>\n",
       "      <td>6</td>\n",
       "      <td>Клоун и его собаки</td>\n",
       "      <td>RU</td>\n",
       "      <td>\\N</td>\n",
       "      <td>imdbDisplay</td>\n",
       "      <td>\\N</td>\n",
       "      <td>0</td>\n",
       "    </tr>\n",
       "    <tr>\n",
       "      <th>14</th>\n",
       "      <td>tt0000002</td>\n",
       "      <td>7</td>\n",
       "      <td>The Clown and His Dogs</td>\n",
       "      <td>US</td>\n",
       "      <td>\\N</td>\n",
       "      <td>\\N</td>\n",
       "      <td>literal English title</td>\n",
       "      <td>0</td>\n",
       "    </tr>\n",
       "    <tr>\n",
       "      <th>15</th>\n",
       "      <td>tt0000002</td>\n",
       "      <td>8</td>\n",
       "      <td>道化師と犬</td>\n",
       "      <td>JP</td>\n",
       "      <td>ja</td>\n",
       "      <td>imdbDisplay</td>\n",
       "      <td>\\N</td>\n",
       "      <td>0</td>\n",
       "    </tr>\n",
       "    <tr>\n",
       "      <th>16</th>\n",
       "      <td>tt0000003</td>\n",
       "      <td>1</td>\n",
       "      <td>Sarmanul Pierrot</td>\n",
       "      <td>RO</td>\n",
       "      <td>\\N</td>\n",
       "      <td>imdbDisplay</td>\n",
       "      <td>\\N</td>\n",
       "      <td>0</td>\n",
       "    </tr>\n",
       "    <tr>\n",
       "      <th>17</th>\n",
       "      <td>tt0000003</td>\n",
       "      <td>2</td>\n",
       "      <td>Szegény Pierrot</td>\n",
       "      <td>HU</td>\n",
       "      <td>\\N</td>\n",
       "      <td>imdbDisplay</td>\n",
       "      <td>\\N</td>\n",
       "      <td>0</td>\n",
       "    </tr>\n",
       "    <tr>\n",
       "      <th>18</th>\n",
       "      <td>tt0000003</td>\n",
       "      <td>3</td>\n",
       "      <td>哀れなピエロ</td>\n",
       "      <td>JP</td>\n",
       "      <td>ja</td>\n",
       "      <td>imdbDisplay</td>\n",
       "      <td>\\N</td>\n",
       "      <td>0</td>\n",
       "    </tr>\n",
       "    <tr>\n",
       "      <th>19</th>\n",
       "      <td>tt0000003</td>\n",
       "      <td>4</td>\n",
       "      <td>Бідний П'єро</td>\n",
       "      <td>UA</td>\n",
       "      <td>\\N</td>\n",
       "      <td>imdbDisplay</td>\n",
       "      <td>\\N</td>\n",
       "      <td>0</td>\n",
       "    </tr>\n",
       "  </tbody>\n",
       "</table>\n",
       "</div>"
      ],
      "text/plain": [
       "      titleId  ordering                      title region language  \\\n",
       "0   tt0000001         1                 Карменсіта     UA       \\N   \n",
       "1   tt0000001         2                 Carmencita     DE       \\N   \n",
       "2   tt0000001         3  Carmencita - spanyol tánc     HU       \\N   \n",
       "3   tt0000001         4                 Καρμενσίτα     GR       \\N   \n",
       "4   tt0000001         5                 Карменсита     RU       \\N   \n",
       "5   tt0000001         6                 Carmencita     US       \\N   \n",
       "6   tt0000001         7                 Carmencita     \\N       \\N   \n",
       "7   tt0000001         8                    カルメンチータ     JP       ja   \n",
       "8   tt0000002         1     Le clown et ses chiens     \\N       \\N   \n",
       "9   tt0000002         2          A bohóc és kutyái     HU       \\N   \n",
       "10  tt0000002         3     Le clown et ses chiens     FR       \\N   \n",
       "11  tt0000002         4  Der Clown und seine Hunde     DE       \\N   \n",
       "12  tt0000002         5      Clovnul si cainii sai     RO       \\N   \n",
       "13  tt0000002         6         Клоун и его собаки     RU       \\N   \n",
       "14  tt0000002         7     The Clown and His Dogs     US       \\N   \n",
       "15  tt0000002         8                      道化師と犬     JP       ja   \n",
       "16  tt0000003         1           Sarmanul Pierrot     RO       \\N   \n",
       "17  tt0000003         2            Szegény Pierrot     HU       \\N   \n",
       "18  tt0000003         3                     哀れなピエロ     JP       ja   \n",
       "19  tt0000003         4               Бідний П'єро     UA       \\N   \n",
       "\n",
       "          types             attributes isOriginalTitle  \n",
       "0   imdbDisplay                     \\N               0  \n",
       "1            \\N          literal title               0  \n",
       "2   imdbDisplay                     \\N               0  \n",
       "3   imdbDisplay                     \\N               0  \n",
       "4   imdbDisplay                     \\N               0  \n",
       "5            \\N                     \\N               0  \n",
       "6      original                     \\N               1  \n",
       "7   imdbDisplay                     \\N               0  \n",
       "8      original                     \\N               1  \n",
       "9   imdbDisplay                     \\N               0  \n",
       "10           \\N                     \\N               0  \n",
       "11           \\N          literal title               0  \n",
       "12  imdbDisplay                     \\N               0  \n",
       "13  imdbDisplay                     \\N               0  \n",
       "14           \\N  literal English title               0  \n",
       "15  imdbDisplay                     \\N               0  \n",
       "16  imdbDisplay                     \\N               0  \n",
       "17  imdbDisplay                     \\N               0  \n",
       "18  imdbDisplay                     \\N               0  \n",
       "19  imdbDisplay                     \\N               0  "
      ]
     },
     "execution_count": 5,
     "metadata": {},
     "output_type": "execute_result"
    }
   ],
   "source": [
    "# read the data file\n",
    "movie_akas = pd.read_csv('Resources/title.akas.tsv', sep='\\t')\n",
    "movie_akas.head(20)"
   ]
  },
  {
   "cell_type": "code",
   "execution_count": 6,
   "metadata": {
    "id": "NpKCOxC4qSgU"
   },
   "outputs": [],
   "source": [
    "# Will need to establish SQL Database connection and read in dataset from DB\n",
    "# pd.read_sql_table('table_name', 'postgres:///db_name')"
   ]
  },
  {
   "cell_type": "markdown",
   "metadata": {},
   "source": [
    "# **2. Merge Datasets**"
   ]
  },
  {
   "cell_type": "code",
   "execution_count": 7,
   "metadata": {},
   "outputs": [
    {
     "data": {
      "text/html": [
       "<div>\n",
       "<style scoped>\n",
       "    .dataframe tbody tr th:only-of-type {\n",
       "        vertical-align: middle;\n",
       "    }\n",
       "\n",
       "    .dataframe tbody tr th {\n",
       "        vertical-align: top;\n",
       "    }\n",
       "\n",
       "    .dataframe thead th {\n",
       "        text-align: right;\n",
       "    }\n",
       "</style>\n",
       "<table border=\"1\" class=\"dataframe\">\n",
       "  <thead>\n",
       "    <tr style=\"text-align: right;\">\n",
       "      <th></th>\n",
       "      <th>tconst</th>\n",
       "      <th>titleType</th>\n",
       "      <th>primaryTitle</th>\n",
       "      <th>originalTitle</th>\n",
       "      <th>isAdult</th>\n",
       "      <th>startYear</th>\n",
       "      <th>endYear</th>\n",
       "      <th>runtimeMinutes</th>\n",
       "      <th>genres</th>\n",
       "      <th>directors</th>\n",
       "      <th>writers</th>\n",
       "      <th>averageRating</th>\n",
       "      <th>numVotes</th>\n",
       "    </tr>\n",
       "  </thead>\n",
       "  <tbody>\n",
       "    <tr>\n",
       "      <th>0</th>\n",
       "      <td>tt0000001</td>\n",
       "      <td>short</td>\n",
       "      <td>Carmencita</td>\n",
       "      <td>Carmencita</td>\n",
       "      <td>0</td>\n",
       "      <td>1894</td>\n",
       "      <td>\\N</td>\n",
       "      <td>1</td>\n",
       "      <td>Documentary,Short</td>\n",
       "      <td>nm0005690</td>\n",
       "      <td>\\N</td>\n",
       "      <td>5.600</td>\n",
       "      <td>1648</td>\n",
       "    </tr>\n",
       "    <tr>\n",
       "      <th>1</th>\n",
       "      <td>tt0000002</td>\n",
       "      <td>short</td>\n",
       "      <td>Le clown et ses chiens</td>\n",
       "      <td>Le clown et ses chiens</td>\n",
       "      <td>0</td>\n",
       "      <td>1892</td>\n",
       "      <td>\\N</td>\n",
       "      <td>5</td>\n",
       "      <td>Animation,Short</td>\n",
       "      <td>nm0721526</td>\n",
       "      <td>\\N</td>\n",
       "      <td>6.100</td>\n",
       "      <td>198</td>\n",
       "    </tr>\n",
       "    <tr>\n",
       "      <th>2</th>\n",
       "      <td>tt0000003</td>\n",
       "      <td>short</td>\n",
       "      <td>Pauvre Pierrot</td>\n",
       "      <td>Pauvre Pierrot</td>\n",
       "      <td>0</td>\n",
       "      <td>1892</td>\n",
       "      <td>\\N</td>\n",
       "      <td>4</td>\n",
       "      <td>Animation,Comedy,Romance</td>\n",
       "      <td>nm0721526</td>\n",
       "      <td>\\N</td>\n",
       "      <td>6.500</td>\n",
       "      <td>1352</td>\n",
       "    </tr>\n",
       "    <tr>\n",
       "      <th>3</th>\n",
       "      <td>tt0000004</td>\n",
       "      <td>short</td>\n",
       "      <td>Un bon bock</td>\n",
       "      <td>Un bon bock</td>\n",
       "      <td>0</td>\n",
       "      <td>1892</td>\n",
       "      <td>\\N</td>\n",
       "      <td>12</td>\n",
       "      <td>Animation,Short</td>\n",
       "      <td>nm0721526</td>\n",
       "      <td>\\N</td>\n",
       "      <td>6.200</td>\n",
       "      <td>120</td>\n",
       "    </tr>\n",
       "    <tr>\n",
       "      <th>4</th>\n",
       "      <td>tt0000005</td>\n",
       "      <td>short</td>\n",
       "      <td>Blacksmith Scene</td>\n",
       "      <td>Blacksmith Scene</td>\n",
       "      <td>0</td>\n",
       "      <td>1893</td>\n",
       "      <td>\\N</td>\n",
       "      <td>1</td>\n",
       "      <td>Comedy,Short</td>\n",
       "      <td>nm0005690</td>\n",
       "      <td>\\N</td>\n",
       "      <td>6.200</td>\n",
       "      <td>2139</td>\n",
       "    </tr>\n",
       "  </tbody>\n",
       "</table>\n",
       "</div>"
      ],
      "text/plain": [
       "      tconst titleType            primaryTitle           originalTitle  \\\n",
       "0  tt0000001     short              Carmencita              Carmencita   \n",
       "1  tt0000002     short  Le clown et ses chiens  Le clown et ses chiens   \n",
       "2  tt0000003     short          Pauvre Pierrot          Pauvre Pierrot   \n",
       "3  tt0000004     short             Un bon bock             Un bon bock   \n",
       "4  tt0000005     short        Blacksmith Scene        Blacksmith Scene   \n",
       "\n",
       "   isAdult startYear endYear runtimeMinutes                    genres  \\\n",
       "0        0      1894      \\N              1         Documentary,Short   \n",
       "1        0      1892      \\N              5           Animation,Short   \n",
       "2        0      1892      \\N              4  Animation,Comedy,Romance   \n",
       "3        0      1892      \\N             12           Animation,Short   \n",
       "4        0      1893      \\N              1              Comedy,Short   \n",
       "\n",
       "   directors writers  averageRating  numVotes  \n",
       "0  nm0005690      \\N          5.600      1648  \n",
       "1  nm0721526      \\N          6.100       198  \n",
       "2  nm0721526      \\N          6.500      1352  \n",
       "3  nm0721526      \\N          6.200       120  \n",
       "4  nm0005690      \\N          6.200      2139  "
      ]
     },
     "execution_count": 7,
     "metadata": {},
     "output_type": "execute_result"
    }
   ],
   "source": [
    "# Merge three datasets into one dataframe\n",
    "movie_data = pd.merge(movie_basics, movie_crew, on=[\"tconst\", \"tconst\"])\n",
    "movie_data = pd.merge(movie_data, movie_ratings, on=[\"tconst\", \"tconst\"])\n",
    "movie_data.head()"
   ]
  },
  {
   "cell_type": "markdown",
   "metadata": {
    "id": "d_tgnNgkqlRY"
   },
   "source": [
    "# **3. Explore data**"
   ]
  },
  {
   "cell_type": "markdown",
   "metadata": {
    "id": "Mf6l5TbNseZc"
   },
   "source": [
    "## Understand Numerical Features"
   ]
  },
  {
   "cell_type": "code",
   "execution_count": 8,
   "metadata": {
    "colab": {
     "base_uri": "https://localhost:8080/",
     "height": 408
    },
    "id": "rgRv2dB-quyy",
    "outputId": "bf9845eb-6085-469b-8f51-210b14199d3a"
   },
   "outputs": [
    {
     "name": "stdout",
     "output_type": "stream",
     "text": [
      "<class 'pandas.core.frame.DataFrame'>\n",
      "Int64Index: 1079292 entries, 0 to 1079291\n",
      "Data columns (total 13 columns):\n",
      " #   Column          Non-Null Count    Dtype  \n",
      "---  ------          --------------    -----  \n",
      " 0   tconst          1079292 non-null  object \n",
      " 1   titleType       1079292 non-null  object \n",
      " 2   primaryTitle    1079291 non-null  object \n",
      " 3   originalTitle   1079291 non-null  object \n",
      " 4   isAdult         1079292 non-null  int64  \n",
      " 5   startYear       1079292 non-null  object \n",
      " 6   endYear         1079292 non-null  object \n",
      " 7   runtimeMinutes  1079292 non-null  object \n",
      " 8   genres          1079290 non-null  object \n",
      " 9   directors       1079292 non-null  object \n",
      " 10  writers         1079292 non-null  object \n",
      " 11  averageRating   1079292 non-null  float64\n",
      " 12  numVotes        1079292 non-null  int64  \n",
      "dtypes: float64(1), int64(2), object(10)\n",
      "memory usage: 115.3+ MB\n"
     ]
    }
   ],
   "source": [
    "movie_data.info()"
   ]
  },
  {
   "cell_type": "markdown",
   "metadata": {
    "id": "usGksjVxqvmf"
   },
   "source": [
    "# **3. Clean and Prep Data**"
   ]
  },
  {
   "cell_type": "code",
   "execution_count": 9,
   "metadata": {
    "id": "p432j83_OEO4"
   },
   "outputs": [],
   "source": [
    "#Make copy of df for editing\n",
    "movie_data_2 = movie_data.copy()"
   ]
  },
  {
   "cell_type": "code",
   "execution_count": 10,
   "metadata": {},
   "outputs": [
    {
     "data": {
      "text/plain": [
       "tvEpisode       491504\n",
       "movie           253638\n",
       "short           125694\n",
       "tvSeries         71436\n",
       "video            58124\n",
       "tvMovie          41867\n",
       "videoGame        11277\n",
       "tvMiniSeries     10626\n",
       "tvSpecial         9220\n",
       "tvShort           5906\n",
       "Name: titleType, dtype: int64"
      ]
     },
     "execution_count": 10,
     "metadata": {},
     "output_type": "execute_result"
    }
   ],
   "source": [
    "# Inspect title types\n",
    "movie_data_2['titleType'].value_counts()"
   ]
  },
  {
   "cell_type": "code",
   "execution_count": 11,
   "metadata": {},
   "outputs": [],
   "source": [
    "# Drop all titleTypes that are not movies from the df\n",
    "movie_data_2 = (movie_data_2.loc[movie_data_2['titleType'] == 'movie'])"
   ]
  },
  {
   "cell_type": "code",
   "execution_count": 12,
   "metadata": {},
   "outputs": [],
   "source": [
    "# Drop all adult films from the df\n",
    "movie_data_2 = (movie_data_2.loc[movie_data_2['isAdult'] == 0])"
   ]
  },
  {
   "cell_type": "code",
   "execution_count": 13,
   "metadata": {},
   "outputs": [
    {
     "data": {
      "text/plain": [
       "2017    9412\n",
       "2016    9152\n",
       "2018    9052\n",
       "2015    8872\n",
       "2014    8680\n",
       "2019    8279\n",
       "2013    8202\n",
       "2012    7861\n",
       "2011    7503\n",
       "2010    6933\n",
       "2009    6704\n",
       "2008    5962\n",
       "2007    5242\n",
       "2006    4997\n",
       "2005    4511\n",
       "2004    4075\n",
       "2003    3691\n",
       "2002    3559\n",
       "2001    3390\n",
       "2020    3293\n",
       "2000    3157\n",
       "1999    3007\n",
       "1998    2807\n",
       "1997    2732\n",
       "1996    2534\n",
       "1995    2417\n",
       "1989    2407\n",
       "1988    2406\n",
       "1991    2360\n",
       "1994    2352\n",
       "1987    2330\n",
       "1990    2306\n",
       "1992    2299\n",
       "1993    2291\n",
       "1986    2237\n",
       "1985    2136\n",
       "1984    2128\n",
       "1983    2071\n",
       "1982    2062\n",
       "1973    2039\n",
       "1972    2015\n",
       "1979    2000\n",
       "1981    1990\n",
       "1970    1985\n",
       "1971    1982\n",
       "1974    1953\n",
       "1980    1906\n",
       "1969    1900\n",
       "1968    1898\n",
       "1977    1866\n",
       "1976    1840\n",
       "1975    1836\n",
       "1978    1827\n",
       "1967    1678\n",
       "1966    1625\n",
       "1965    1596\n",
       "1964    1572\n",
       "1962    1468\n",
       "1963    1435\n",
       "1961    1420\n",
       "1959    1383\n",
       "1957    1381\n",
       "1960    1372\n",
       "1958    1322\n",
       "1956    1232\n",
       "1955    1193\n",
       "1954    1174\n",
       "1953    1157\n",
       "1951    1136\n",
       "1952    1077\n",
       "1950    1056\n",
       "1937    1020\n",
       "1936    1013\n",
       "1935    1005\n",
       "1938     996\n",
       "1949     969\n",
       "1939     963\n",
       "1942     944\n",
       "1941     937\n",
       "1943     935\n",
       "1940     928\n",
       "1948     868\n",
       "1934     863\n",
       "1947     825\n",
       "1944     792\n",
       "1932     769\n",
       "1946     767\n",
       "1933     750\n",
       "1931     715\n",
       "1945     710\n",
       "1930     587\n",
       "1929     497\n",
       "1928     451\n",
       "1926     433\n",
       "1927     411\n",
       "1925     388\n",
       "1920     356\n",
       "1921     294\n",
       "1924     289\n",
       "1923     282\n",
       "1919     270\n",
       "1922     263\n",
       "1917     250\n",
       "1916     249\n",
       "1918     243\n",
       "1915     210\n",
       "1914     153\n",
       "1913      91\n",
       "1911      48\n",
       "1912      47\n",
       "1910      46\n",
       "1909      38\n",
       "1898      17\n",
       "\\N        17\n",
       "1908      16\n",
       "1906      14\n",
       "1907      13\n",
       "1903      10\n",
       "1900      10\n",
       "1905       8\n",
       "1904       6\n",
       "1899       6\n",
       "1902       3\n",
       "1901       2\n",
       "1894       1\n",
       "1897       1\n",
       "2021       1\n",
       "Name: startYear, dtype: int64"
      ]
     },
     "execution_count": 13,
     "metadata": {},
     "output_type": "execute_result"
    }
   ],
   "source": [
    "# Inspect start years\n",
    "movie_data_2['startYear'].value_counts()"
   ]
  },
  {
   "cell_type": "code",
   "execution_count": 14,
   "metadata": {},
   "outputs": [],
   "source": [
    "# Try to filter column\n",
    "\n",
    "#movie_data_2 = (movie_data_2.loc[movie_data_2['startYear'] > 1960])\n",
    "#movie_data_2 = movie_data_2.drop(movie_data_2[movie_data_2.startYear > 1960])\n",
    "#int(movie_data_2[\"startYear\"])> 1960"
   ]
  },
  {
   "cell_type": "code",
   "execution_count": 15,
   "metadata": {},
   "outputs": [],
   "source": [
    "# Try to convert column\n",
    "\n",
    "#movie_data_2['startYear'].astype(object)\n",
    "#movie_data_2['startYear'].astype(str)\n",
    "#movie_data_2['startYear'].convert_dtypes(infer_objects=False).dtypes  "
   ]
  },
  {
   "cell_type": "code",
   "execution_count": 16,
   "metadata": {},
   "outputs": [],
   "source": [
    "# try to filter NaNs in column\n",
    "\n",
    "#blank = (movie_data_2.loc[movie_data_2['startYear'] =='\\N'])\n",
    "#movie_data_2 = movie_data_2.drop(movie_data_2[movie_data_2.startYear == \"\\N\"])\n",
    "#movie_data_2 = movie_data_2.drop(movie_data_2[movie_data_2.startYear == r\"\\N\"])"
   ]
  },
  {
   "cell_type": "code",
   "execution_count": 17,
   "metadata": {},
   "outputs": [],
   "source": [
    "# Try to replace \"\\N\" in column\n",
    "\n",
    "#movie_data_2['startYear'].replace(['/N'], '0')"
   ]
  },
  {
   "cell_type": "code",
   "execution_count": 18,
   "metadata": {},
   "outputs": [],
   "source": [
    "# Try to alter \\N in column\n",
    "\n",
    "#movie_data_2['startYear'].str.replace('\\', \"\").astype(int)"
   ]
  },
  {
   "cell_type": "code",
   "execution_count": null,
   "metadata": {},
   "outputs": [],
   "source": []
  },
  {
   "cell_type": "code",
   "execution_count": null,
   "metadata": {},
   "outputs": [],
   "source": []
  },
  {
   "cell_type": "code",
   "execution_count": null,
   "metadata": {},
   "outputs": [],
   "source": []
  },
  {
   "cell_type": "code",
   "execution_count": null,
   "metadata": {},
   "outputs": [],
   "source": []
  },
  {
   "cell_type": "code",
   "execution_count": null,
   "metadata": {
    "colab": {
     "base_uri": "https://localhost:8080/",
     "height": 255
    },
    "id": "xA5_r7tNC4HC",
    "outputId": "e2ce7edc-06a4-496d-c71e-6db06b8a34c8"
   },
   "outputs": [],
   "source": [
    "# Drop unneeded columns\n",
    "movie_data_2 = movie_data_2.drop(columns=['titleType', 'originalTitle', 'isAdult','endYear'])\n",
    "movie_data_2.head()"
   ]
  },
  {
   "cell_type": "markdown",
   "metadata": {
    "id": "YlmUrFg5CiM7"
   },
   "source": [
    "## Encode Columns"
   ]
  },
  {
   "cell_type": "code",
   "execution_count": null,
   "metadata": {
    "id": "0qEflwDyC5A8"
   },
   "outputs": [],
   "source": [
    "# Encoded the import_id column alphabetically\n",
    "import_id = {\n",
    "    \"lionsgate\": 1,\n",
    "    \"mgm\": 2,\n",
    "    \"paramount\":3,\n",
    "    \"other\": 0,}\n",
    "\n",
    "movie_data_2[\"import_id\"] = movie_data_2[\"import_id\"].apply(lambda x: import_id[x])\n",
    "\n",
    "#Other option is to use OneHotEncoding (1 or 0 column encoding) to reduce numerical bias"
   ]
  },
  {
   "cell_type": "code",
   "execution_count": null,
   "metadata": {
    "id": "pPG-3T9gC5F9"
   },
   "outputs": [],
   "source": [
    "# Rename importr_id column\n",
    "movie_data_2 = movie_data_2.rename(columns = {\"import_id\":\"production_comp\"})"
   ]
  },
  {
   "cell_type": "code",
   "execution_count": null,
   "metadata": {
    "id": "_N8Y1dWUHAQa"
   },
   "outputs": [],
   "source": [
    "# Encoded the awards column\n",
    "awards = {\n",
    "    \"BAFTA\": 1,\n",
    "    \"Golden Globe\": 2,\n",
    "    \"Oscar\":3,\n",
    "    \"other award\": 4,\n",
    "    \"no award\": 0}\n",
    "\n",
    "movie_data_2[\"awards\"] = movie_data_2[\"awards\"].apply(lambda x: awards[x])"
   ]
  },
  {
   "cell_type": "code",
   "execution_count": null,
   "metadata": {
    "id": "Xv3HSGrlHATo"
   },
   "outputs": [],
   "source": [
    "# Encoded the mpaa column\n",
    "mpaa = {\n",
    "    \"G\": 1,\n",
    "    \"PG\": 2,\n",
    "    \"PG-13\":3,\n",
    "    \"NC-17\": 4,\n",
    "    \"R\": 5,\n",
    "    \"NotRated\": 0} \n",
    "\n",
    "movie_data_2[\"mpaa\"] = movie_data_2[\"mpaa\"].apply(lambda x: mpaa[x])"
   ]
  },
  {
   "cell_type": "markdown",
   "metadata": {
    "id": "GFTNn0afudak"
   },
   "source": [
    "## Split Genres\n",
    "\n",
    "Some videos belong to more than one genere. Splitting each genre into a new column will help the ML model."
   ]
  },
  {
   "cell_type": "code",
   "execution_count": null,
   "metadata": {},
   "outputs": [],
   "source": [
    "Split genres and directors and writers"
   ]
  },
  {
   "cell_type": "code",
   "execution_count": null,
   "metadata": {
    "colab": {
     "base_uri": "https://localhost:8080/",
     "height": 1000
    },
    "id": "15QJnQwyufnt",
    "outputId": "ad47a589-5921-470b-cdad-5361ffddf6cc"
   },
   "outputs": [],
   "source": [
    "# Count unique values in genres column\n",
    "movie_data_2['genres'].value_counts()"
   ]
  },
  {
   "cell_type": "code",
   "execution_count": null,
   "metadata": {
    "colab": {
     "base_uri": "https://localhost:8080/",
     "height": 221
    },
    "id": "s_8ItKdlufy9",
    "outputId": "ae061d0c-19f0-47d9-9bb3-c1b808bd6271"
   },
   "outputs": [],
   "source": [
    "# Convert genres column from string into a list\n",
    "movie_data_2[\"genres\"] = movie_data_2.genres.apply(lambda x: x.split(','))\n",
    "movie_data_2.head()"
   ]
  },
  {
   "cell_type": "code",
   "execution_count": null,
   "metadata": {
    "colab": {
     "base_uri": "https://localhost:8080/",
     "height": 241
    },
    "id": "JZRk5JPqPpim",
    "outputId": "9be2c746-f46d-411f-eb1a-b274cb63b041"
   },
   "outputs": [],
   "source": [
    "# Use MultiLabelBinarizer() to break up and encode genre list \n",
    "mlb = MultiLabelBinarizer()\n",
    "movie_data_2 = movie_data_2.join(pd.DataFrame(mlb.fit_transform(movie_data_2.pop('genres')), columns=mlb.classes_, index=movie_data_2.index))\n",
    "movie_data_2.head()"
   ]
  },
  {
   "cell_type": "markdown",
   "metadata": {
    "id": "TYYHt6GKvZr5"
   },
   "source": [
    "## Clean Up Categorical Features"
   ]
  },
  {
   "cell_type": "code",
   "execution_count": null,
   "metadata": {
    "colab": {
     "base_uri": "https://localhost:8080/",
     "height": 833
    },
    "id": "YSA-8LvDvd8Z",
    "outputId": "90291b1b-8e99-4cf4-955a-b4e95a9b7cb0"
   },
   "outputs": [],
   "source": [
    "movie_data_2[['budget','boxoffice','metacritic_score','star_category\\r','imdb_votes','imdb_rating']] = movie_data_2[['budget','boxoffice','metacritic_score','star_category\\r','imdb_votes','imdb_rating']].replace(0, np.nan)\n",
    "print(movie_data_2.info())"
   ]
  },
  {
   "cell_type": "code",
   "execution_count": null,
   "metadata": {
    "colab": {
     "base_uri": "https://localhost:8080/",
     "height": 714
    },
    "id": "93qSo0_QvpWP",
    "outputId": "12b4beea-7460-4784-f4d4-94281625bff0"
   },
   "outputs": [],
   "source": [
    "print(movie_data_2.isnull().sum()/movie_data_2.shape[0])"
   ]
  },
  {
   "cell_type": "markdown",
   "metadata": {
    "id": "CoTHAxrDvuJU"
   },
   "source": [
    "Filling missing data with mean value.\n",
    "\n"
   ]
  },
  {
   "cell_type": "code",
   "execution_count": null,
   "metadata": {
    "colab": {
     "base_uri": "https://localhost:8080/",
     "height": 833
    },
    "id": "ypBTmp4vvvoz",
    "outputId": "6467cfa1-bc25-4741-c261-57ede39c6004"
   },
   "outputs": [],
   "source": [
    "movie_data_2['boxoffice'] = movie_data_2['boxoffice'].fillna(movie_data_2['boxoffice'].mean())\n",
    "movie_data_2['metacritic_score']=movie_data_2['metacritic_score'].fillna(movie_data_2['metacritic_score'].mean())\n",
    "movie_data_2['star_category\\r'] = movie_data_2['star_category\\r'].fillna(movie_data_2['imdb_votes'].mean())\n",
    "movie_data_2['imdb_votes'] = movie_data_2['imdb_votes'].fillna(movie_data_2['imdb_votes'].mean())\n",
    "movie_data_2['imdb_rating']=movie_data_2['imdb_rating'].fillna(movie_data_2['imdb_rating'].mean())\n",
    "movie_data_2['budget']= movie_data_2['budget'].fillna(movie_data_2['budget'].mean())\n",
    "print(movie_data_2.info())"
   ]
  },
  {
   "cell_type": "markdown",
   "metadata": {
    "id": "BNiyftxGq7XV"
   },
   "source": [
    "# **4. Pre-Processing for ML**\n",
    "## Split & Standardize Data"
   ]
  },
  {
   "cell_type": "code",
   "execution_count": null,
   "metadata": {
    "id": "cXFVpmz7rDyh"
   },
   "outputs": [],
   "source": [
    "# Split preprocessed data into features and target arrays"
   ]
  },
  {
   "cell_type": "code",
   "execution_count": null,
   "metadata": {
    "id": "c4sAJ_qvrD23"
   },
   "outputs": [],
   "source": [
    "# Split the preprocessed data into a training and testing dataset"
   ]
  },
  {
   "cell_type": "code",
   "execution_count": null,
   "metadata": {
    "id": "BpHznnOurD52"
   },
   "outputs": [],
   "source": [
    "# Create a StandardScaler instance"
   ]
  },
  {
   "cell_type": "code",
   "execution_count": null,
   "metadata": {
    "id": "EX6YX2jGvTnn"
   },
   "outputs": [],
   "source": [
    "# Fit the StandardScaler"
   ]
  },
  {
   "cell_type": "code",
   "execution_count": null,
   "metadata": {
    "id": "nE8MZJ56vTvg"
   },
   "outputs": [],
   "source": [
    "# Scale the data"
   ]
  },
  {
   "cell_type": "markdown",
   "metadata": {
    "id": "ndhUclwew2si"
   },
   "source": [
    "## Feature scaling\n",
    "\n",
    "The impact of differnet scalling methods on the model performance is small. In the following model training and selections, the standard scalling sc data is used.\n",
    "\n",
    "There are two most common used scaling method: normalization and standardscaler. If there are no specific requirement for the range of output, we choose to use standardscaler."
   ]
  },
  {
   "cell_type": "code",
   "execution_count": null,
   "metadata": {
    "colab": {
     "base_uri": "https://localhost:8080/",
     "height": 241
    },
    "id": "PvOuojFRw7-T",
    "outputId": "c8560f71-3919-42fd-d65f-ee88a90e078e"
   },
   "outputs": [],
   "source": [
    "#Standard scaling\n",
    "scale_lst= ['budget','boxoffice', 'imdb_votes','imdb_rating','duration_in_mins','metacritic_score','star_category\\r']\n",
    "\n",
    "new_prime_data_sc = movie_data_2.copy()\n",
    "\n",
    "sc_scale = preprocessing.StandardScaler().fit(new_prime_data_sc[scale_lst])\n",
    "new_prime_data_sc[scale_lst] = sc_scale.transform(new_prime_data_sc[scale_lst])\n",
    "new_prime_data_sc.head()"
   ]
  },
  {
   "cell_type": "code",
   "execution_count": null,
   "metadata": {
    "id": "sl_biKAUw8MW"
   },
   "outputs": [],
   "source": [
    "#MinMax scaling \n",
    "new_movie_data_mm = movie_data_2.copy()\n",
    "mm_scale = preprocessing.MinMaxScaler().fit(new_movie_data_mm[scale_lst])\n",
    "new_movie_data_mm[scale_lst] = mm_scale.transform(new_movie_data_mm[scale_lst])\n",
    "\n",
    "#Robust scaling \n",
    "new_movie_data_rs = movie_data_2.copy()\n",
    "rs_scale = preprocessing.RobustScaler().fit(new_movie_data_mm[scale_lst])\n",
    "new_movie_data_rs[scale_lst] = rs_scale.transform(new_movie_data_rs[scale_lst])"
   ]
  },
  {
   "cell_type": "markdown",
   "metadata": {
    "id": "tHcByHEArGEY"
   },
   "source": [
    "# **5. Create Learning Model**"
   ]
  },
  {
   "cell_type": "markdown",
   "metadata": {
    "id": "c1DnLXiNrOXB"
   },
   "source": [
    "use multiple ML model (Lasso Linear regressino model and Random Forest Model) "
   ]
  },
  {
   "cell_type": "code",
   "execution_count": null,
   "metadata": {
    "colab": {
     "base_uri": "https://localhost:8080/",
     "height": 232
    },
    "id": "bgpotGJArJah",
    "outputId": "de8c4b25-d86d-402c-a408-015fb5352162"
   },
   "outputs": [],
   "source": [
    "# Define the model\n",
    "# ML sample on Lasso Linear regression \n",
    "from sklearn.model_selection import train_test_split\n",
    "from sklearn.linear_model import LinearRegression, Lasso, Ridge\n",
    "from sklearn.metrics import mean_squared_error, r2_score\n",
    "from math import sqrt \n",
    "\n",
    "lr_train, lr_validate = train_test_split(train, test_size = 0.15, random_state = 0)\n",
    "\n",
    "lr_train_x = lr_train.drop(['video_id', 'cvt_per_day'], axis =1)\n",
    "lr_validate_x = lr_validate.drop(['video_id','cvt_per_day'], axis=1)\n",
    "lr_train_y = lr_train['cvt_per_day']\n",
    "lr_validate_y = lr_validate['cvt_per_day']\n",
    "\n",
    "alphas = np.logspace(-0.3, 2.5, num=150)\n",
    "#alphas = [0.00000001]\n",
    "scores = np.empty_like(alphas)\n",
    "opt_a = float('-inf')\n",
    "max_score = float('-inf')\n",
    "for i, a in enumerate(alphas):\n",
    "    lasso = Lasso()\n",
    "    lasso.set_params(alpha = a)\n",
    "    lasso.fit(lr_train_x, lr_train_y)\n",
    "    scores[i] = lasso.score(lr_validate_x, lr_validate_y)\n",
    "    if scores[i]> max_score:\n",
    "        max_score = scores[i]\n",
    "        opt_a = a\n",
    "        lasso_save = lasso\n",
    "plt.plot(alphas, scores, color = 'b', linestyle= 'dashed', marker='o', markerfacecolor = 'blue', markersize = 6)\n",
    "plt.xlabel('alpha')\n",
    "plt.ylabel('score')\n",
    "plt.grid(True)\n",
    "plt.title('score vs. alpha')\n",
    "plt.show()\n",
    "modell_para = opt_a\n",
    "print('The optimaized alpha and score of Lasso linear is: '), opt_a, max_score\n",
    "\n",
    "#combine the validate data and training data, use the optimal alpha, re-train the model \n",
    "lasso_f = Lasso()\n",
    "lasso_f.set_params(alpha = opt_a)\n",
    "lasso_f.fit(model_train_x, model_train_y)"
   ]
  },
  {
   "cell_type": "code",
   "execution_count": null,
   "metadata": {
    "id": "S_ZjxiBOarkv"
   },
   "outputs": [],
   "source": [
    "# use Random Forest Model \n",
    "from sklearn.ensemble import RandomForestRegressor\n",
    "from sklearn.model_selection import GridSearchCV\n",
    "rf=RandomForestRegressor(random_state=2,max_features='sqrt',n_jobs=-1)\n",
    "param_grid={'n_estimators':[55,56,57,58,59,60,61,62,63,64,65],'max_depth':[15,16,17,18,19,20,21]}\n",
    "clf=GridSearchCV(estimator=rf,param_grid=param_grid,cv=5,refit=True,n_jobs=-1,pre_dispatch='2*n_jobs')\n",
    "clf.fit(model_train_x,model_train_y)\n",
    "\n",
    "result= clf.cv_results_\n",
    "print(result)\n",
    "max_depth=[15,16,17,18,19,20,21]\n",
    "n_estimators = [55,56,57,58,59,60,61,62,63,64,65]\n",
    "scores = clf.cv_results_['mean_test_score'].reshape(len(max_depth), len(n_estimators))\n",
    "plt.figure(1)\n",
    "plt.subplot(1,1,1)\n",
    "for i,j in enumerate(max_depth):\n",
    "    plt.plot(n_estimators, scores[i], '-o', label= 'max_depths is:'+str(j))\n",
    "plt.legend(bbox_to_anchor = (1.05, 1), loc='upper left', borderaxespad= 0.)\n",
    "plt.xlabel('mean_test_score')\n",
    "plt.ylabel('n_estimators')\n",
    "plt.show()\n",
    "print('the best parameter for max_depth is: '+str(clf.best_params_['max_depth']))\n",
    "print('the best parameter for n_estimators is :' +str(clf.best_params_['n_estimators']))\n"
   ]
  },
  {
   "cell_type": "code",
   "execution_count": null,
   "metadata": {
    "id": "FyG5auXQbR9b"
   },
   "outputs": [],
   "source": [
    "# Model Evaluation and Comparison \n",
    "lst_score = [lasso_score, ridge_score, rf_score]\n",
    "model_lst = ['Lasso_linear',  'Random forest']\n",
    "\n",
    "plt.figure(1)\n",
    "plt.plot(model_lst, lst_score, 'ro')\n",
    "plt.legend(['r-squre / score'])\n",
    "plt.xlabel('model names',fontsize =16)\n",
    "plt.ylabel('score / r square', fontsize =16)\n",
    "plt.grid(True)\n",
    "plt.show()"
   ]
  },
  {
   "cell_type": "code",
   "execution_count": null,
   "metadata": {
    "id": "BbC1JcKsafqE"
   },
   "outputs": [],
   "source": [
    "# Try use another model, "
   ]
  },
  {
   "cell_type": "code",
   "execution_count": null,
   "metadata": {
    "id": "vn2FhE5srJbs"
   },
   "outputs": [],
   "source": [
    "# Add hidden layers"
   ]
  },
  {
   "cell_type": "code",
   "execution_count": null,
   "metadata": {
    "id": "el1iTNczrJfz"
   },
   "outputs": [],
   "source": [
    "# Add the output layer that uses a probability activation function"
   ]
  },
  {
   "cell_type": "code",
   "execution_count": null,
   "metadata": {
    "id": "_FK-tDYBrJzK"
   },
   "outputs": [],
   "source": [
    "# Check the structure of the Sequential model"
   ]
  },
  {
   "cell_type": "code",
   "execution_count": null,
   "metadata": {
    "id": "kwwZtEO4xsUV"
   },
   "outputs": [],
   "source": [
    "# Compile the Sequential model together and customize metrics"
   ]
  },
  {
   "cell_type": "markdown",
   "metadata": {
    "id": "H5kuINzbxzEa"
   },
   "source": [
    "# **6. Train and Test Neural Network**"
   ]
  },
  {
   "cell_type": "code",
   "execution_count": null,
   "metadata": {
    "id": "qOnv727Ox2AT"
   },
   "outputs": [],
   "source": [
    "# Fit / train the model to the training data"
   ]
  },
  {
   "cell_type": "code",
   "execution_count": null,
   "metadata": {
    "id": "WsxjltLSx2Do"
   },
   "outputs": [],
   "source": [
    "# Evaluate model performance using the test data"
   ]
  },
  {
   "cell_type": "markdown",
   "metadata": {
    "id": "qh3N335UrPsq"
   },
   "source": [
    "# **7. Precitions / Conclusion**"
   ]
  },
  {
   "cell_type": "code",
   "execution_count": null,
   "metadata": {
    "id": "h2SbMpP-rVWO"
   },
   "outputs": [],
   "source": []
  },
  {
   "cell_type": "markdown",
   "metadata": {
    "id": "IcvoHChGrV9c"
   },
   "source": [
    "# **8. Summary**\n"
   ]
  }
 ],
 "metadata": {
  "colab": {
   "collapsed_sections": [],
   "include_colab_link": true,
   "name": "Project_Master.ipynb",
   "provenance": []
  },
  "kernelspec": {
   "display_name": "Python 3",
   "language": "python",
   "name": "python3"
  },
  "language_info": {
   "codemirror_mode": {
    "name": "ipython",
    "version": 3
   },
   "file_extension": ".py",
   "mimetype": "text/x-python",
   "name": "python",
   "nbconvert_exporter": "python",
   "pygments_lexer": "ipython3",
   "version": "3.7.7"
  }
 },
 "nbformat": 4,
 "nbformat_minor": 1
}
