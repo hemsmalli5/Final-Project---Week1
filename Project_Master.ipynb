{
  "nbformat": 4,
  "nbformat_minor": 0,
  "metadata": {
    "colab": {
      "name": "Project_Master.ipynb",
      "provenance": [],
      "collapsed_sections": [],
      "toc_visible": true,
      "authorship_tag": "ABX9TyPCISOtolGJksMpjFKcq3mY",
      "include_colab_link": true
    },
    "kernelspec": {
      "name": "python3",
      "display_name": "Python 3"
    }
  },
  "cells": [
    {
      "cell_type": "markdown",
      "metadata": {
        "id": "view-in-github",
        "colab_type": "text"
      },
      "source": [
        "<a href=\"https://colab.research.google.com/github/hemsmalli5/Final-Project---Week1/blob/master/Project_Master.ipynb\" target=\"_parent\"><img src=\"https://colab.research.google.com/assets/colab-badge.svg\" alt=\"Open In Colab\"/></a>"
      ]
    },
    {
      "cell_type": "markdown",
      "metadata": {
        "id": "XQXd2LA9oDxK"
      },
      "source": [
        "\n",
        "# ***Amazon Prime Video Data Analysis***\n",
        "\n",
        "There are about 4000+ rows and 16 columns, we are aimed to meature on how much a movie is consumed by the audiences per day. Higher number means the movies is more popular on our platform."
      ]
    },
    {
      "cell_type": "code",
      "metadata": {
        "id": "RUDJyRCWnksA"
      },
      "source": [
        "# Import dependencies\n",
        "\n",
        "import numpy as np\n",
        "import pandas as pd\n",
        "import sklearn as sl\n",
        "import sklearn.preprocessing as preprocessing\n",
        "from sklearn.model_selection import train_test_split\n",
        "import seaborn as sns\n",
        "import matplotlib.pyplot as plt\n",
        "pd.set_option('display.float_format', lambda x: '%.3f' % x)\n",
        "pd.set_option('display.max_columns', None)\n",
        "pd.set_option('display.max_rows', None)\n",
        "pd.set_option('max_colwidth', 100)"
      ],
      "execution_count": null,
      "outputs": []
    },
    {
      "cell_type": "markdown",
      "metadata": {
        "id": "fzA-9JPRqbXS"
      },
      "source": [
        "## Import Data"
      ]
    },
    {
      "cell_type": "code",
      "metadata": {
        "id": "H4v_3PZyoONY",
        "outputId": "37c3520d-b592-4445-8c39-4f42d39f7237",
        "colab": {
          "resources": {
            "http://localhost:8080/nbextensions/google.colab/files.js": {
              "data": "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",
              "ok": true,
              "headers": [
                [
                  "content-type",
                  "application/javascript"
                ]
              ],
              "status": 200,
              "status_text": ""
            }
          },
          "base_uri": "https://localhost:8080/",
          "height": 72
        }
      },
      "source": [
        "# upload file\n",
        "from google.colab import files\n",
        "uploaded = files.upload()"
      ],
      "execution_count": null,
      "outputs": [
        {
          "output_type": "display_data",
          "data": {
            "text/html": [
              "\n",
              "     <input type=\"file\" id=\"files-13ea45be-ff5b-4f89-802e-3574838650f6\" name=\"files[]\" multiple disabled\n",
              "        style=\"border:none\" />\n",
              "     <output id=\"result-13ea45be-ff5b-4f89-802e-3574838650f6\">\n",
              "      Upload widget is only available when the cell has been executed in the\n",
              "      current browser session. Please rerun this cell to enable.\n",
              "      </output>\n",
              "      <script src=\"/nbextensions/google.colab/files.js\"></script> "
            ],
            "text/plain": [
              "<IPython.core.display.HTML object>"
            ]
          },
          "metadata": {
            "tags": []
          }
        },
        {
          "output_type": "stream",
          "text": [
            "Saving movies_rawdata.csv to movies_rawdata (1).csv\n"
          ],
          "name": "stdout"
        }
      ]
    },
    {
      "cell_type": "code",
      "metadata": {
        "id": "Ajx573Guof0r",
        "outputId": "50549006-4901-49d2-925b-66700dc42d88",
        "colab": {
          "base_uri": "https://localhost:8080/",
          "height": 595
        }
      },
      "source": [
        "# read the data as prime_data (amazon_prime_data)\n",
        "prime_data = pd.read_table('movies_rawdata.csv', header= 0, sep= ',', lineterminator='\\n')\n",
        "print(prime_data.head())"
      ],
      "execution_count": null,
      "outputs": [
        {
          "output_type": "stream",
          "text": [
            "   video_id  cvt_per_day  weighted_categorical_position  \\\n",
            "0    385504   307127.606                              1   \n",
            "1    300175   270338.426                              1   \n",
            "2    361899   256165.867                              1   \n",
            "3    308314   196622.721                              3   \n",
            "4    307201   159841.652                              1   \n",
            "\n",
            "   weighted_horizontal_poition  import_id  release_year  \\\n",
            "0                            3  lionsgate          2013   \n",
            "1                            3  lionsgate          2013   \n",
            "2                            3      other          2012   \n",
            "3                            4  lionsgate          2008   \n",
            "4                            3  lionsgate          2013   \n",
            "\n",
            "                                          genres  imdb_votes    budget  \\\n",
            "0                          Action,Thriller,Drama       69614  15000000   \n",
            "1                          Comedy,Crime,Thriller       46705  15000000   \n",
            "2                                    Crime,Drama      197596  26000000   \n",
            "3  Thriller,Drama,War,Documentary,Mystery,Action      356339  15000000   \n",
            "4             Crime,Thriller,Mystery,Documentary       46720  27220000   \n",
            "\n",
            "   boxoffice  imdb_rating  duration_in_mins  metacritic_score       awards  \\\n",
            "0   42930462        6.500           112.301                51  other award   \n",
            "1    3301046        6.500            94.983                41     no award   \n",
            "2   37397291        7.300           115.764                58  other award   \n",
            "3   15700000        7.600           130.704                94        Oscar   \n",
            "4    8551228        6.400           105.546                37  other award   \n",
            "\n",
            "    mpaa  star_category\\r  \n",
            "0  PG-13            1.710  \n",
            "1      R            3.250  \n",
            "2      R            2.647  \n",
            "3      R            1.667  \n",
            "4      R            3.067  \n"
          ],
          "name": "stdout"
        }
      ]
    },
    {
      "cell_type": "code",
      "metadata": {
        "id": "NpKCOxC4qSgU"
      },
      "source": [
        "# as an alternative, read in dataset from SQL"
      ],
      "execution_count": null,
      "outputs": []
    },
    {
      "cell_type": "markdown",
      "metadata": {
        "id": "d_tgnNgkqlRY"
      },
      "source": [
        "# **1. Explore data**"
      ]
    },
    {
      "cell_type": "markdown",
      "metadata": {
        "id": "72kC8xyUqr7H"
      },
      "source": [
        "## 1.1 Exclude erroneous data\n",
        "\n",
        "Each video should only appear once in the lits, duplicated video will be removed."
      ]
    },
    {
      "cell_type": "code",
      "metadata": {
        "id": "jR56v1xkqtH8",
        "outputId": "f14baa25-ffcb-4c12-bcc4-0de660b0241f",
        "colab": {
          "base_uri": "https://localhost:8080/",
          "height": 34
        }
      },
      "source": [
        "\n",
        "if prime_data['video_id'].duplicated().sum()==0:\n",
        "  print('no duplicated index')"
      ],
      "execution_count": null,
      "outputs": [
        {
          "output_type": "stream",
          "text": [
            "no duplicated index\n"
          ],
          "name": "stdout"
        }
      ]
    },
    {
      "cell_type": "code",
      "metadata": {
        "id": "GGWoQY9hqupD"
      },
      "source": [
        ""
      ],
      "execution_count": null,
      "outputs": []
    },
    {
      "cell_type": "markdown",
      "metadata": {
        "id": "Mf6l5TbNseZc"
      },
      "source": [
        "## 1.2 Understand numerical features\n",
        "\n",
        "### 1.2.1 Overview"
      ]
    },
    {
      "cell_type": "code",
      "metadata": {
        "id": "rgRv2dB-quyy",
        "outputId": "cace4915-4f22-4fc9-cd95-6039ab00e067",
        "colab": {
          "base_uri": "https://localhost:8080/",
          "height": 1000
        }
      },
      "source": [
        "\n",
        "prime_data.info()\n",
        "print(TV.drop(columns=['video_id', 'release_year'], axis=1).describe(percentiles = [0.1, 0.25,0.5, 0.75,0.95]))\n",
        "(TV==0).sum(axis=0)/TV.shape[0]"
      ],
      "execution_count": null,
      "outputs": [
        {
          "output_type": "stream",
          "text": [
            "<class 'pandas.core.frame.DataFrame'>\n",
            "RangeIndex: 4226 entries, 0 to 4225\n",
            "Data columns (total 16 columns):\n",
            " #   Column                         Non-Null Count  Dtype  \n",
            "---  ------                         --------------  -----  \n",
            " 0   video_id                       4226 non-null   int64  \n",
            " 1   cvt_per_day                    4226 non-null   float64\n",
            " 2   weighted_categorical_position  4226 non-null   int64  \n",
            " 3   weighted_horizontal_poition    4226 non-null   int64  \n",
            " 4   import_id                      4226 non-null   object \n",
            " 5   release_year                   4226 non-null   int64  \n",
            " 6   genres                         4226 non-null   object \n",
            " 7   imdb_votes                     4226 non-null   int64  \n",
            " 8   budget                         4226 non-null   int64  \n",
            " 9   boxoffice                      4226 non-null   int64  \n",
            " 10  imdb_rating                    4226 non-null   float64\n",
            " 11  duration_in_mins               4226 non-null   float64\n",
            " 12  metacritic_score               4226 non-null   int64  \n",
            " 13  awards                         4226 non-null   object \n",
            " 14  mpaa                           4226 non-null   object \n",
            " 15  star_category\r                 4226 non-null   float64\n",
            "dtypes: float64(4), int64(8), object(4)\n",
            "memory usage: 528.4+ KB\n",
            "       cvt_per_day  weighted_categorical_position  \\\n",
            "count     4226.000                       4226.000   \n",
            "mean      4218.630                          7.783   \n",
            "std      13036.080                          6.134   \n",
            "min          2.188                          1.000   \n",
            "10%        141.985                          3.000   \n",
            "25%        351.169                          4.000   \n",
            "50%       1193.500                          6.000   \n",
            "75%       3356.789                          9.000   \n",
            "95%      14692.834                         22.000   \n",
            "max     307127.606                         41.000   \n",
            "\n",
            "       weighted_horizontal_poition  imdb_votes        budget     boxoffice  \\\n",
            "count                     4226.000    4226.000      4226.000      4226.000   \n",
            "mean                        28.104    6462.924   2150743.439   2536338.472   \n",
            "std                         11.864   31596.007   7176604.483   8243516.266   \n",
            "min                          1.000       0.000         0.000         0.000   \n",
            "10%                         13.000       8.000         0.000         0.000   \n",
            "25%                         20.000      81.000         0.000         0.000   \n",
            "50%                         28.000     535.000         0.000         0.000   \n",
            "75%                         36.000    3053.000   1500000.000         0.000   \n",
            "95%                         48.000   26199.500  12000000.000   8551228.000   \n",
            "max                         70.000  948630.000 107000000.000 184208848.000   \n",
            "\n",
            "       imdb_rating  duration_in_mins  metacritic_score  star_category\\r  \n",
            "count     4226.000          4226.000          4226.000         4226.000  \n",
            "mean         5.257            89.556            15.974            0.955  \n",
            "std          2.123            21.086            26.205            0.955  \n",
            "min          0.000             4.037             0.000            0.000  \n",
            "10%          2.300            62.391             0.000            0.000  \n",
            "25%          4.300            82.602             0.000            0.000  \n",
            "50%          5.800            90.730             0.000            1.000  \n",
            "75%          6.800            99.500            41.000            1.667  \n",
            "95%          7.800           119.131            65.000            2.597  \n",
            "max         10.000           246.017           100.000            4.000  \n"
          ],
          "name": "stdout"
        },
        {
          "output_type": "execute_result",
          "data": {
            "text/plain": [
              "video_id                        0.000\n",
              "cvt_per_day                     0.000\n",
              "weighted_categorical_position   0.000\n",
              "weighted_horizontal_poition     0.000\n",
              "import_id                       0.000\n",
              "release_year                    0.000\n",
              "genres                          0.000\n",
              "imdb_votes                      0.081\n",
              "budget                          0.581\n",
              "boxoffice                       0.756\n",
              "imdb_rating                     0.081\n",
              "duration_in_mins                0.000\n",
              "metacritic_score                0.713\n",
              "awards                          0.000\n",
              "mpaa                            0.000\n",
              "star_category\\r                 0.437\n",
              "dtype: float64"
            ]
          },
          "metadata": {
            "tags": []
          },
          "execution_count": 10
        }
      ]
    },
    {
      "cell_type": "markdown",
      "metadata": {
        "id": "8pBMToyTs3ur"
      },
      "source": [
        "### 1.2.2 cvt_per_day feature"
      ]
    },
    {
      "cell_type": "code",
      "metadata": {
        "id": "HJH5WdgNqu7D"
      },
      "source": [
        "# explore cvt_per_day feature"
      ],
      "execution_count": null,
      "outputs": []
    },
    {
      "cell_type": "markdown",
      "metadata": {
        "id": "G3ZRT2wqtVJy"
      },
      "source": [
        "# 1.2.3 Correlation among numerical features"
      ]
    },
    {
      "cell_type": "markdown",
      "metadata": {
        "id": "Ps36KXfOuTaI"
      },
      "source": [
        "After basic Data Exploratory Data Analysis, we will do some data cleaning and data preprocessing.\n",
        "\n",
        "Firstly, we need to encode the categorical feature. Secondly, we need to impute the mising value for both numeric and categorical feature. Thirdly, we need to scale out feature, whihc can be better for our models' performance.\n",
        "\n"
      ]
    },
    {
      "cell_type": "code",
      "metadata": {
        "id": "-8W5ULHXuD5B"
      },
      "source": [
        ""
      ],
      "execution_count": null,
      "outputs": []
    },
    {
      "cell_type": "code",
      "metadata": {
        "id": "y1GWtAAZuEVW"
      },
      "source": [
        ""
      ],
      "execution_count": null,
      "outputs": []
    },
    {
      "cell_type": "code",
      "metadata": {
        "id": "qVuatdZZtVnU"
      },
      "source": [
        ""
      ],
      "execution_count": null,
      "outputs": []
    },
    {
      "cell_type": "markdown",
      "metadata": {
        "id": "GFTNn0afudak"
      },
      "source": [
        "### 1.3.2 Distribution of Splited genres\n",
        "\n",
        "Some videos belongs to more than one genere, the genre of each video is splitted, this would help emphasize the effect of each individual genere."
      ]
    },
    {
      "cell_type": "code",
      "metadata": {
        "id": "15QJnQwyufnt"
      },
      "source": [
        ""
      ],
      "execution_count": null,
      "outputs": []
    },
    {
      "cell_type": "code",
      "metadata": {
        "id": "s_8ItKdlufy9"
      },
      "source": [
        ""
      ],
      "execution_count": null,
      "outputs": []
    },
    {
      "cell_type": "code",
      "metadata": {
        "id": "wRcedXVfuf3v"
      },
      "source": [
        ""
      ],
      "execution_count": null,
      "outputs": []
    },
    {
      "cell_type": "markdown",
      "metadata": {
        "id": "usGksjVxqvmf"
      },
      "source": [
        "# **2. ETL/ Clean and prep data**"
      ]
    },
    {
      "cell_type": "code",
      "metadata": {
        "id": "EAKrM4ORq0vq"
      },
      "source": [
        "# clean the dataset"
      ],
      "execution_count": null,
      "outputs": []
    },
    {
      "cell_type": "code",
      "metadata": {
        "id": "tqiSmyJCq0x5"
      },
      "source": [
        "# perform onehot and code on genres"
      ],
      "execution_count": null,
      "outputs": []
    },
    {
      "cell_type": "code",
      "metadata": {
        "id": "wZbqVJa6q01p"
      },
      "source": [
        "# create new features "
      ],
      "execution_count": null,
      "outputs": []
    },
    {
      "cell_type": "code",
      "metadata": {
        "id": "2YPlndRTq05D"
      },
      "source": [
        "# create tables and merge"
      ],
      "execution_count": null,
      "outputs": []
    },
    {
      "cell_type": "markdown",
      "metadata": {
        "id": "gPsTxzh9q17v"
      },
      "source": [
        "# **3. Data base connections**"
      ]
    },
    {
      "cell_type": "code",
      "metadata": {
        "id": "pvmjNg2Lq-lf"
      },
      "source": [
        "# Database connections"
      ],
      "execution_count": null,
      "outputs": []
    },
    {
      "cell_type": "code",
      "metadata": {
        "id": "QgB3JqELq-nO"
      },
      "source": [
        "# create tables and merge"
      ],
      "execution_count": null,
      "outputs": []
    },
    {
      "cell_type": "code",
      "metadata": {
        "id": "eJTVDlrWq-rT"
      },
      "source": [
        ""
      ],
      "execution_count": null,
      "outputs": []
    },
    {
      "cell_type": "markdown",
      "metadata": {
        "id": "BNiyftxGq7XV"
      },
      "source": [
        "# **4. Pre-processing for ML**\n",
        "## 4.1 Encode, Split, & Standardize Data"
      ]
    },
    {
      "cell_type": "code",
      "metadata": {
        "id": "fNwIS03srDw1"
      },
      "source": [
        "# Encode catagorical data if needed\n"
      ],
      "execution_count": null,
      "outputs": []
    },
    {
      "cell_type": "code",
      "metadata": {
        "id": "cXFVpmz7rDyh"
      },
      "source": [
        "# Split preprocessed data into features and target arrays"
      ],
      "execution_count": null,
      "outputs": []
    },
    {
      "cell_type": "code",
      "metadata": {
        "id": "c4sAJ_qvrD23"
      },
      "source": [
        "# Split the preprocessed data into a training and testing dataset"
      ],
      "execution_count": null,
      "outputs": []
    },
    {
      "cell_type": "code",
      "metadata": {
        "id": "BpHznnOurD52"
      },
      "source": [
        "# Create a StandardScaler instance"
      ],
      "execution_count": null,
      "outputs": []
    },
    {
      "cell_type": "code",
      "metadata": {
        "id": "EX6YX2jGvTnn"
      },
      "source": [
        "# Fit the StandardScaler"
      ],
      "execution_count": null,
      "outputs": []
    },
    {
      "cell_type": "code",
      "metadata": {
        "id": "nE8MZJ56vTvg"
      },
      "source": [
        "# Scale the data"
      ],
      "execution_count": null,
      "outputs": []
    },
    {
      "cell_type": "markdown",
      "metadata": {
        "id": "TYYHt6GKvZr5"
      },
      "source": [
        "## 4.2 Categorical features"
      ]
    },
    {
      "cell_type": "code",
      "metadata": {
        "id": "YSA-8LvDvd8Z"
      },
      "source": [
        "\n",
        "new_prime_data[['budget','boxoffice','metacritic_score','star_category','imdb_votes','imdb_rating']] = new_prime_data[['budget','boxoffice','metacritic_score','star_category','imdb_votes','imdb_rating']].replace(0, np.nan)\n",
        "print(new_prime_data.info())"
      ],
      "execution_count": null,
      "outputs": []
    },
    {
      "cell_type": "code",
      "metadata": {
        "id": "93qSo0_QvpWP"
      },
      "source": [
        "\n",
        "print(new_prime_data.isnull().sum()/new_prime_data.shape[0])"
      ],
      "execution_count": null,
      "outputs": []
    },
    {
      "cell_type": "markdown",
      "metadata": {
        "id": "CoTHAxrDvuJU"
      },
      "source": [
        "Filling missing data with mean value.\n",
        "\n"
      ]
    },
    {
      "cell_type": "code",
      "metadata": {
        "id": "ypBTmp4vvvoz"
      },
      "source": [
        "new_prime_data1= new_prime_data.copy()\n",
        "new_prime_data1['boxoffice'] = new_prime_data1['boxoffice'].fillna(new_prime_data1['boxoffice'].mean())\n",
        "new_prime_data1['metacritic_score']=new_prime_data1['metacritic_score'].fillna(new_prime_data1['metacritic_score'].mean())\n",
        "new_prime_data1['star_category'] = new_prime_data1['star_category'].fillna(new_prime_data1['imdb_votes'].mean())\n",
        "new_prime_data1['imdb_votes'] = new_prime_data1['imdb_votes'].fillna(new_prime_data1['imdb_votes'].mean())\n",
        "new_prime_data1['imdb_rating']=new_prime_data1['imdb_rating'].fillna(new_prime_data1['imdb_rating'].mean())\n",
        "new_prime_data1['budget']= new_prime_data1['budget'].fillna(new_prime_data1['budget'].mean())\n",
        "print(new_prime_data1.info())"
      ],
      "execution_count": null,
      "outputs": []
    },
    {
      "cell_type": "markdown",
      "metadata": {
        "id": "ndhUclwew2si"
      },
      "source": [
        "## 4.3 Feature scaling\n",
        "\n",
        "The impact of differnet scalling methods on the model performance is small. In the following model training and selections, the standard scalling sc data is used.\n",
        "\n",
        "There are two most common used scaling method: normalization and standardscaler. If there are no specific requirement for the range of output, we choose to use standardscaler."
      ]
    },
    {
      "cell_type": "code",
      "metadata": {
        "id": "PvOuojFRw7-T"
      },
      "source": [
        "#Standard scaling\n",
        "scale_lst= ['weighted_categorical_position', 'weighted_horizontal_poition','budget','boxoffice',\n",
        "            'imdb_votes','imdb_rating','duration_in_mins','metacritic_score','star_category']\n",
        "\n",
        "new_prime_data_sc = new_prime_data1.copy()\n",
        "\n",
        "sc_scale = preprocessing.StandardScaler().fit(new_prime_data_sc[scale_lst])\n",
        "new_prime_data_sc[scale_lst] = sc_scale.transform(new_prime_data_sc[scale_lst])\n",
        "new_prime_data_sc.head()"
      ],
      "execution_count": null,
      "outputs": []
    },
    {
      "cell_type": "code",
      "metadata": {
        "id": "sl_biKAUw8MW"
      },
      "source": [
        "#MinMax scaling \n",
        "new_prime_data_mm = new_prime_data.copy()\n",
        "mm_scale = preprocessing.MinMaxScaler().fit(new_prime_data_mm[scale_lst])\n",
        "new_prime_data_mm[scale_lst] = mm_scale.transform(new_prime_data_mm[scale_lst])\n",
        "\n",
        "#Robust scaling \n",
        "new_prime_data_rs = new_prime_data.copy()\n",
        "rs_scale = preprocessing.RobustScaler().fit(new_prime_datamm[scale_lst])\n",
        "new_prime_data_rs[scale_lst] = rs_scale.transform(new_prime_data_rs[scale_lst])"
      ],
      "execution_count": null,
      "outputs": []
    },
    {
      "cell_type": "markdown",
      "metadata": {
        "id": "tHcByHEArGEY"
      },
      "source": [
        "# **5. Create Learning Model**"
      ]
    },
    {
      "cell_type": "markdown",
      "metadata": {
        "id": "c1DnLXiNrOXB"
      },
      "source": [
        ""
      ]
    },
    {
      "cell_type": "code",
      "metadata": {
        "id": "bgpotGJArJah"
      },
      "source": [
        "# Define the model"
      ],
      "execution_count": null,
      "outputs": []
    },
    {
      "cell_type": "code",
      "metadata": {
        "id": "vn2FhE5srJbs"
      },
      "source": [
        "# Add hidden layers"
      ],
      "execution_count": null,
      "outputs": []
    },
    {
      "cell_type": "code",
      "metadata": {
        "id": "el1iTNczrJfz"
      },
      "source": [
        "# Add the output layer that uses a probability activation function"
      ],
      "execution_count": null,
      "outputs": []
    },
    {
      "cell_type": "code",
      "metadata": {
        "id": "_FK-tDYBrJzK"
      },
      "source": [
        "# Check the structure of the Sequential model"
      ],
      "execution_count": null,
      "outputs": []
    },
    {
      "cell_type": "code",
      "metadata": {
        "id": "kwwZtEO4xsUV"
      },
      "source": [
        "# Compile the Sequential model together and customize metrics\n"
      ],
      "execution_count": null,
      "outputs": []
    },
    {
      "cell_type": "code",
      "metadata": {
        "id": "FXbRmcSMxsaz"
      },
      "source": [
        ""
      ],
      "execution_count": null,
      "outputs": []
    },
    {
      "cell_type": "markdown",
      "metadata": {
        "id": "H5kuINzbxzEa"
      },
      "source": [
        "# **6. Train and Test Neural Network**"
      ]
    },
    {
      "cell_type": "code",
      "metadata": {
        "id": "qOnv727Ox2AT"
      },
      "source": [
        "# Fit / train the model to the training data"
      ],
      "execution_count": null,
      "outputs": []
    },
    {
      "cell_type": "code",
      "metadata": {
        "id": "WsxjltLSx2Do"
      },
      "source": [
        "# Evaluate model performance using the test data"
      ],
      "execution_count": null,
      "outputs": []
    },
    {
      "cell_type": "markdown",
      "metadata": {
        "id": "qh3N335UrPsq"
      },
      "source": [
        "# **7. Precitions / Conclusion**"
      ]
    },
    {
      "cell_type": "code",
      "metadata": {
        "id": "h2SbMpP-rVWO"
      },
      "source": [
        ""
      ],
      "execution_count": null,
      "outputs": []
    },
    {
      "cell_type": "code",
      "metadata": {
        "id": "wDmCNubNrVX5"
      },
      "source": [
        ""
      ],
      "execution_count": null,
      "outputs": []
    },
    {
      "cell_type": "code",
      "metadata": {
        "id": "1kn6CIkerVbX"
      },
      "source": [
        ""
      ],
      "execution_count": null,
      "outputs": []
    },
    {
      "cell_type": "markdown",
      "metadata": {
        "id": "IcvoHChGrV9c"
      },
      "source": [
        "# **8. Summary**\n"
      ]
    },
    {
      "cell_type": "markdown",
      "metadata": {
        "id": "Bi99feL5rZKD"
      },
      "source": [
        ""
      ]
    },
    {
      "cell_type": "markdown",
      "metadata": {
        "id": "bK_TU6k2rZM7"
      },
      "source": [
        ""
      ]
    }
  ]
}